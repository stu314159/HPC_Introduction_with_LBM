{
 "cells": [
  {
   "cell_type": "code",
   "execution_count": 1,
   "id": "648eb5cb",
   "metadata": {},
   "outputs": [],
   "source": [
    "import pyvista as pv\n",
    "import numpy as np"
   ]
  },
  {
   "cell_type": "code",
   "execution_count": 2,
   "id": "8c932e45",
   "metadata": {},
   "outputs": [
    {
     "data": {
      "application/vnd.jupyter.widget-view+json": {
       "model_id": "a36275158b6040c8beb4b6c6f39873bf",
       "version_major": 2,
       "version_minor": 0
      },
      "text/plain": [
       "Scene(background_color='#4c4c4c', camera={'position': [136.96898148118453, 134.13892052232222, 138.00729820786…"
      ]
     },
     "metadata": {},
     "output_type": "display_data"
    }
   ],
   "source": [
    "filename = 'wind_turbine_assembly_No_outer_ring.STL';\n",
    "mesh = pv.read(filename);\n",
    "cpos = mesh.plot(jupyter_backend='ipygany');"
   ]
  },
  {
   "cell_type": "code",
   "execution_count": 3,
   "id": "feda9889",
   "metadata": {},
   "outputs": [
    {
     "name": "stdout",
     "output_type": "stream",
     "text": [
      "x_min = 5.76873\n",
      "x_max = 174.574\n",
      "y_min = 9.2869\n",
      "y_max = 183.32\n",
      "z_min = 26.8594\n",
      "z_max = 74.874\n",
      "Lx = 168.806\n",
      "Ly = 174.033\n",
      "Lz = 48.0147\n"
     ]
    }
   ],
   "source": [
    "# get mesh bounds\n",
    "#mesh.rotate_x(90);\n",
    "mesh.rotate_y(90);\n",
    "mesh.translate([90, 100, 50]);\n",
    "mesh.save('wind_turbine_moved.stl');\n",
    "x_min, x_max, y_min, y_max, z_min, z_max = mesh.bounds\n",
    "print('x_min = %g' % x_min)\n",
    "print('x_max = %g' % x_max)\n",
    "print('y_min = %g' % y_min)\n",
    "print('y_max = %g' % y_max)\n",
    "print('z_min = %g' % z_min)\n",
    "print('z_max = %g' % z_max)\n",
    "# to see if this will work, let's expand the domain\n",
    "\n",
    "aL_x = x_max - x_min; print(f'{\"Lx = %g\"}' % aL_x)\n",
    "aL_y = y_max - y_min; print(f'{\"Ly = %g\"}' % aL_y)\n",
    "aL_z = z_max - z_min; print(f'{\"Lz = %g\"}' % aL_z)"
   ]
  },
  {
   "cell_type": "code",
   "execution_count": 4,
   "id": "927a416d",
   "metadata": {},
   "outputs": [
    {
     "name": "stderr",
     "output_type": "stream",
     "text": [
      "/home/sblair/anaconda3/envs/tlbm/lib/python3.8/site-packages/traittypes/traittypes.py:97: UserWarning: Given trait value dtype \"float64\" does not match required type \"float64\". A coerced copy has been created.\n",
      "  warnings.warn(\n"
     ]
    },
    {
     "data": {
      "application/vnd.jupyter.widget-view+json": {
       "model_id": "d44640c1a9d64e938b9b04cdf019699a",
       "version_major": 2,
       "version_minor": 0
      },
      "text/plain": [
       "AppLayout(children=(VBox(children=(HTML(value='<h3></h3>'), Dropdown(description='Colormap:', options={'BrBG':…"
      ]
     },
     "metadata": {},
     "output_type": "display_data"
    }
   ],
   "source": [
    "Lo = np.max([aL_x,aL_y,aL_z])\n",
    "N_divs = 201\n",
    "\n",
    "Ny = np.ceil((N_divs-1)*(aL_y/Lo))+1; Ny=int(Ny);\n",
    "Nx = np.ceil((N_divs-1)*(aL_x/Lo))+1; Nx=int(Nx);\n",
    "Nz = np.ceil((N_divs-1)*(aL_z/Lo))+1; Nz=int(Nz);\n",
    "nnodes = Nx*Ny*Nz\n",
    "#print('nnodes = %g' % nnodes)\n",
    "x_space = np.linspace(x_min,x_max,Nx)\n",
    "y_space = np.linspace(y_min,y_max,Ny)\n",
    "z_space = np.linspace(z_min,z_max,Nz)\n",
    "\n",
    "Y,Z,X=np.meshgrid(y_space,z_space,x_space)\n",
    "x = np.reshape(X,int(nnodes))\n",
    "y = np.reshape(Y,int(nnodes))\n",
    "z = np.reshape(Z,int(nnodes))\n",
    "\n",
    "grid = pv.StructuredGrid(X,Y,Z)\n",
    "ugrid = pv.UnstructuredGrid(grid)\n",
    "selection = ugrid.select_enclosed_points(mesh.extract_surface(),\n",
    "                                        tolerance=0.0,\n",
    "                                        check_surface=False)\n",
    "mask = selection.point_arrays['SelectedPoints'].view(bool)\n",
    "mask = mask.reshape(X.shape)\n",
    "\n",
    "pv.plot(grid.points,opacity=0.2,scalars=mask,jupyter_backend='ipygany')"
   ]
  },
  {
   "cell_type": "code",
   "execution_count": null,
   "id": "6ae365bc",
   "metadata": {},
   "outputs": [],
   "source": []
  }
 ],
 "metadata": {
  "kernelspec": {
   "display_name": "Python 3",
   "language": "python",
   "name": "python3"
  },
  "language_info": {
   "codemirror_mode": {
    "name": "ipython",
    "version": 3
   },
   "file_extension": ".py",
   "mimetype": "text/x-python",
   "name": "python",
   "nbconvert_exporter": "python",
   "pygments_lexer": "ipython3",
   "version": "3.8.10"
  }
 },
 "nbformat": 4,
 "nbformat_minor": 5
}
