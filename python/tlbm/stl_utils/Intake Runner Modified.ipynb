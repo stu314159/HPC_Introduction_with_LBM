{
 "cells": [
  {
   "cell_type": "code",
   "execution_count": 1,
   "id": "c11d16ce",
   "metadata": {},
   "outputs": [],
   "source": [
    "import pyvista as pv\n",
    "import numpy as np"
   ]
  },
  {
   "cell_type": "code",
   "execution_count": 2,
   "id": "59390301",
   "metadata": {},
   "outputs": [
    {
     "data": {
      "application/vnd.jupyter.widget-view+json": {
       "model_id": "9144d901bc8e466c9c1c2cd2a62c7606",
       "version_major": 2,
       "version_minor": 0
      },
      "text/plain": [
       "Scene(background_color='#4c4c4c', camera={'position': [257.88103834011224, 267.9955997786727, 198.443223627587…"
      ]
     },
     "metadata": {},
     "output_type": "display_data"
    }
   ],
   "source": [
    "filename = 'Intake_runners2019_revised.STL';\n",
    "mesh = pv.read(filename);\n",
    "cpos = mesh.plot(jupyter_backend='ipygany');"
   ]
  },
  {
   "cell_type": "code",
   "execution_count": 3,
   "id": "fbd9838e",
   "metadata": {},
   "outputs": [
    {
     "data": {
      "application/vnd.jupyter.widget-view+json": {
       "model_id": "c05efe0b271946a0952814d528025a6c",
       "version_major": 2,
       "version_minor": 0
      },
      "text/plain": [
       "Scene(background_color='#4c4c4c', camera={'position': [346.3640503503109, 320.24672516358146, 250.900109670283…"
      ]
     },
     "metadata": {},
     "output_type": "display_data"
    }
   ],
   "source": [
    "filename = 'Intake_runnerss2016.STL';\n",
    "mesh2016 = pv.read(filename);\n",
    "cpos = mesh2016.plot(jupyter_backend='ipygany');"
   ]
  },
  {
   "cell_type": "code",
   "execution_count": 6,
   "id": "413eebeb",
   "metadata": {},
   "outputs": [
    {
     "data": {
      "application/vnd.jupyter.widget-view+json": {
       "model_id": "b55f389120c94d938b8b7bd094cebf0b",
       "version_major": 2,
       "version_minor": 0
      },
      "text/plain": [
       "Scene(background_color='#4c4c4c', camera={'position': [145.69178786288285, 151.0452110410788, 121.057651603327…"
      ]
     },
     "metadata": {},
     "output_type": "display_data"
    }
   ],
   "source": [
    "filename = 'runner#3 for 3D print.STL';\n",
    "mesh3 = pv.read(filename);\n",
    "cpos = mesh3.plot(jupyter_backend='ipygany');"
   ]
  },
  {
   "cell_type": "code",
   "execution_count": null,
   "id": "f72d6cba",
   "metadata": {},
   "outputs": [],
   "source": []
  }
 ],
 "metadata": {
  "kernelspec": {
   "display_name": "Python 3",
   "language": "python",
   "name": "python3"
  },
  "language_info": {
   "codemirror_mode": {
    "name": "ipython",
    "version": 3
   },
   "file_extension": ".py",
   "mimetype": "text/x-python",
   "name": "python",
   "nbconvert_exporter": "python",
   "pygments_lexer": "ipython3",
   "version": "3.8.10"
  }
 },
 "nbformat": 4,
 "nbformat_minor": 5
}
