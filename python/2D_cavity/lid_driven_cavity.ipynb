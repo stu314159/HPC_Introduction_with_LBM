{
 "cells": [
  {
   "cell_type": "markdown",
   "id": "83089c4c",
   "metadata": {},
   "source": [
    "# Lid Driven Cavity\n",
    "A two-dimensional siumlation of a lid-driven cavity.  \n"
   ]
  },
  {
   "cell_type": "code",
   "execution_count": 1,
   "id": "8c0053e7",
   "metadata": {},
   "outputs": [],
   "source": [
    "%matplotlib inline\n",
    "\n",
    "import math\n",
    "import numpy as np\n",
    "import matplotlib.pyplot as plt\n",
    "import time\n"
   ]
  },
  {
   "cell_type": "markdown",
   "id": "9dbd1189",
   "metadata": {},
   "source": [
    "### Simulation control parameters"
   ]
  },
  {
   "cell_type": "code",
   "execution_count": 2,
   "id": "8e002420",
   "metadata": {},
   "outputs": [],
   "source": [
    "N = 151; # number of lattice points in each direction\n",
    "Num_ts = 50000;\n",
    "Vis_ts = 25000; # number of timesteps between visualizations\n",
    "omega = 1.8; # relaxation parameter"
   ]
  },
  {
   "cell_type": "markdown",
   "id": "95ecc259",
   "metadata": {},
   "source": [
    "### Geometry parameters\n",
    "For a 2D square cavity, there's not much to say about the geometry"
   ]
  },
  {
   "cell_type": "code",
   "execution_count": 3,
   "id": "2412076a",
   "metadata": {},
   "outputs": [],
   "source": [
    "Lx = 1.0; Ly = Lx; # restrict ourselves, for the time being, to square cavities."
   ]
  },
  {
   "cell_type": "markdown",
   "id": "3489fc74",
   "metadata": {},
   "source": [
    "### Fluid Physical Properties and Flow Condition\n",
    "To model an isothermal viscous fluid I will need to know the density and viscosity.  I also need to say *something* about the flow condition.  I could, for example, specify the lid velocity but a more generic and fundamentally relevant way to go about this is to specify the Reynolds Number for the flow.  "
   ]
  },
  {
   "cell_type": "code",
   "execution_count": 4,
   "id": "167f96f6",
   "metadata": {},
   "outputs": [],
   "source": [
    "# physical density and viscosity of the fluid\n",
    "rho_p = 965.3; \n",
    "nu_p = 0.06/rho_p; \n",
    "\n",
    "Re = 100.; # Reynolds number."
   ]
  },
  {
   "cell_type": "markdown",
   "id": "1389a0e9",
   "metadata": {},
   "source": [
    "### Non-Dimensionalization\n",
    "In order to model the physical fluid using the Lattice Boltzmann Method (LBM) we need to non-dimensionalize the fluid physical properties.  Doing so will allow the LBM to accurately capture the dynamics of momentum transfer throughout the domain."
   ]
  },
  {
   "cell_type": "code",
   "execution_count": 5,
   "id": "78f89506",
   "metadata": {},
   "outputs": [],
   "source": [
    "Lo = Ly; # characteristic length\n",
    "Vo = Re*nu_p/Lo; # characteric velocity for given Renolds Number\n",
    "To = Lo/Vo; # characteristic time \n",
    "\n",
    "# convert to dimensionles units\n",
    "Td = 1.0;\n",
    "Ld = 1.0; # for unit spacing and transport of data between lattice sites\n",
    "Ud = (To/Lo)*Vo; # non-dimensionalized velocity and viscosity\n",
    "nu_d = 1./float(Re);"
   ]
  },
  {
   "cell_type": "markdown",
   "id": "e4fe1f70",
   "metadata": {},
   "source": [
    "### Conversion Factors\n",
    "After the calculation is done we will want to convert from a non-dimensionalized unit system back to the physical units in which the problem was posed"
   ]
  },
  {
   "cell_type": "code",
   "execution_count": 6,
   "id": "885ea128",
   "metadata": {},
   "outputs": [],
   "source": [
    "# convert non-dimensional units to \"lattice units\"\n",
    "dx = 1./(float(N)-1.);\n",
    "# a little opaque, but this is the correct conversion for time.\n",
    "dt = (dx**2)*float(Re)*((1./3.)*((1./omega)-0.5)); \n",
    "u_lbm = (dt/dx)*Ud;\n",
    "\n",
    "# get conversion from lattice units to physical units\n",
    "u_conv_fact = (dx/dt)*(Lo/To); #multiply LBM velocity by u_conv_fact to get physical velocity\n",
    "t_conv_fact = (dt*To) # multiply LBM time step by t_conv_fact to get physical time\n",
    "l_conv_fact = dx*Lo # multiply LBM lattice location by l_conv_fact to get physical distance\n",
    "p_conv_fact = ((l_conv_fact/t_conv_fact)**2.)*(1./3.) # multiply LBM density by p_conv_fact to get pressure\n",
    "    \n",
    "rho_lbm = rho_p # not prescribed, but I have never had a problem with doing it this way."
   ]
  },
  {
   "cell_type": "code",
   "execution_count": 7,
   "id": "3b5a659e",
   "metadata": {},
   "outputs": [
    {
     "name": "stdout",
     "output_type": "stream",
     "text": [
      "Lid velocity = 0.0062 m/sec\n",
      "LBM flow Mach number = 0.0123\n",
      "Physical time simulated = 662.071 seconds\n"
     ]
    }
   ],
   "source": [
    "print(f'Lid velocity = %5.4f m/sec' % Vo)\n",
    "print(f'LBM flow Mach number = %5.4f' % u_lbm)\n",
    "print(f'Physical time simulated = %6.3f seconds' % \n",
    "      (t_conv_fact*(float(Num_ts))))"
   ]
  },
  {
   "cell_type": "markdown",
   "id": "4e13bce8",
   "metadata": {},
   "source": [
    "Note the \"LBM flow Mach number.\"  With some practice you will learn how this quantity relates to other parameters.  "
   ]
  },
  {
   "cell_type": "markdown",
   "id": "93617185",
   "metadata": {},
   "source": [
    "### Geometry\n",
    "We need to define a lattice (regular, uniform grid) on the two dimensional domain."
   ]
  },
  {
   "cell_type": "code",
   "execution_count": 8,
   "id": "44102eaf",
   "metadata": {},
   "outputs": [],
   "source": [
    "#number of nodes in x- and y- direction as well as the total number of nodes\n",
    "Ny = int(math.ceil((Ly/Lo)*(float(N))));\n",
    "Nx = int(math.ceil((Lx/Lo)*float(N)));\n",
    "nnodes = Nx*Ny;"
   ]
  },
  {
   "cell_type": "code",
   "execution_count": 9,
   "id": "8a72dafb",
   "metadata": {},
   "outputs": [],
   "source": [
    "# construct an array of global coordinates\n",
    "x_left = 0.; x_right = x_left + Lx\n",
    "y_bottom = 0.; y_top = y_bottom + Ly\n",
    "x_space = np.linspace(x_left,x_right,Nx,dtype=np.float64)\n",
    "y_space = np.linspace(y_bottom,y_top,Ny,dtype=np.float64)\n",
    "xx,yy = np.meshgrid(x_space,y_space)\n",
    "gcoord = np.zeros((2,nnodes))\n",
    "gcoord[0][:] = np.reshape(xx,nnodes) # x-coordinate values\n",
    "gcoord[1][:] = np.reshape(yy,nnodes) # y-coordinate values"
   ]
  },
  {
   "cell_type": "code",
   "execution_count": 10,
   "id": "0e54086e",
   "metadata": {},
   "outputs": [],
   "source": [
    "# nodes along the boundary are special\n",
    "bottom_nodes = np.argwhere(gcoord[1][:]<dx/2.).flatten()\n",
    "left_nodes = np.argwhere(gcoord[0][:]<dx/2.).flatten()\n",
    "right_nodes = np.argwhere(gcoord[0][:]>(Lx - dx/2.)).flatten()\n",
    "moving_nodes = np.argwhere(gcoord[1][:]>(Ly - dx/2.)).flatten()\n",
    "solid_nodes = np.unique(np.concatenate((bottom_nodes,left_nodes,right_nodes)))\n",
    "\n",
    "# removes any previously identified solid nodes from the moving node list.\n",
    "moving_nodes = np.setxor1d(moving_nodes,np.intersect1d(moving_nodes,solid_nodes))\n",
    "    \n",
    "    \n",
    "# check against other code\n",
    "node_type = np.zeros(nnodes).astype(np.int32)\n",
    "node_type[solid_nodes]=1\n",
    "node_type[moving_nodes]=2"
   ]
  },
  {
   "cell_type": "markdown",
   "id": "26d6b0c8",
   "metadata": {},
   "source": [
    "### LBM Dependent Variables and Weights"
   ]
  },
  {
   "cell_type": "code",
   "execution_count": 11,
   "id": "c71ecdb0",
   "metadata": {},
   "outputs": [],
   "source": [
    "numSpd = 9;\n",
    "fIn = np.ones((numSpd,nnodes),dtype=np.float64)\n",
    "w = np.array([[4./9.], [1./9.],[1./9.],[1./9.],[1./9.],\n",
    "    [1./36.],[1./36.],[1./36.],[1./36.]]) # weights\n",
    "for spd in range(numSpd):\n",
    "    fIn[spd][:]*=rho_lbm*w[spd] # initialize dependent variables\n",
    "        \n",
    "fOut = np.copy(fIn) # two copies will be used\n",
    "\n",
    "ex = np.array([0.,1.,0.,-1.,0.,1.,-1.,-1.,1.]) # lattice velocities \n",
    "ey = np.array([0.,0.,1.,0.,-1.,1.,1.,-1.,-1.]) # 9-speed lattice\n",
    "bb_spd = [0,3,4,1,2,7,8,5,6]; # bounce-back speeds\n",
    "fEq = np.zeros_like(fIn) # store \"equilibrium\" densities\n",
    "snl = solid_nodes\n",
    "vnl = moving_nodes\n",
    "u = u_lbm"
   ]
  },
  {
   "cell_type": "markdown",
   "id": "1132438d",
   "metadata": {},
   "source": [
    "#### Stream Target Matrix \n",
    "Establishes topology for \"streaming\" operation"
   ]
  },
  {
   "cell_type": "code",
   "execution_count": 12,
   "id": "c351c3e0",
   "metadata": {},
   "outputs": [],
   "source": [
    "# make a stream target matrix - incorporate periodicity to the lattice here.\n",
    "stm = np.zeros((numSpd,nnodes),dtype=np.int)\n",
    "    \n",
    "ind = np.arange(nnodes)\n",
    "ind = np.reshape(ind,(Ny,Nx))\n",
    "for spd in range(numSpd):\n",
    "    tInd = np.roll(ind,-int(ex[spd]),axis=1)\n",
    "    tInd = np.roll(tInd,-int(ey[spd]),axis=0)\n",
    "    tInd = np.reshape(tInd,(1,nnodes))\n",
    "    stm[spd][:] = tInd"
   ]
  },
  {
   "cell_type": "code",
   "execution_count": 13,
   "id": "5cb4b457",
   "metadata": {},
   "outputs": [
    {
     "name": "stdout",
     "output_type": "stream",
     "text": [
      "Commencing time step 0\n",
      "Commencing time step 5000\n",
      "Commencing time step 10000\n",
      "Commencing time step 15000\n",
      "Commencing time step 20000\n",
      "Commencing time step 25000\n"
     ]
    },
    {
     "data": {
      "image/png": "[encoded data removed]",
      "text/plain": [
       "<Figure size 432x720 with 2 Axes>"
      ]
     },
     "metadata": {
      "needs_background": "light"
     },
     "output_type": "display_data"
    },
    {
     "name": "stdout",
     "output_type": "stream",
     "text": [
      "Commencing time step 30000\n",
      "Commencing time step 35000\n",
      "Commencing time step 40000\n",
      "Commencing time step 45000\n",
      "Lattice point updates per second = 3.33946e+06.\n"
     ]
    }
   ],
   "source": [
    "# commence time stepping\n",
    "t0 = time.time()\n",
    "for t in range(Num_ts):\n",
    "    if t%5000 == 0:\n",
    "        print(f'Commencing time step %i' % t);\n",
    "           \n",
    "    # compute density\n",
    "    rho = np.sum(fIn,axis=0)\n",
    "        \n",
    "    # compute velocity\n",
    "    ux = np.dot(np.transpose(ex),fIn)/rho\n",
    "    uy = np.dot(np.transpose(ey),fIn)/rho\n",
    "        \n",
    "    # set microscopic Dirichlet-type BC\n",
    "    ux_t = ux[vnl]; uy_t = uy[vnl];\n",
    "    dx = u - ux_t; dy = 0. - uy_t;\n",
    "    for spd in range(1,numSpd):\n",
    "        cu = 3.*(ex[spd]*dx + ey[spd]*dy)\n",
    "        fIn[spd][vnl]+=w[spd]*(rho[vnl]*cu)\n",
    "               \n",
    "    # set macroscopic Dirichlet-type boundary conditions\n",
    "    ux[snl]=0.; uy[snl]=0.\n",
    "    ux[vnl]=u; uy[vnl]=0.\n",
    "        \n",
    "    # compute Equilibrium density distribution\n",
    "    fEq = np.zeros_like(fIn)\n",
    "        \n",
    "    for spd in range(numSpd):\n",
    "        cu = 3.*(ex[spd]*ux + ey[spd]*uy)\n",
    "        fEq[spd][:]=w[spd]*rho*(1.+cu + (0.5)*cu*cu -\n",
    "                                (3./2.)*(ux*ux + uy*uy))\n",
    "            \n",
    "    # collide\n",
    "    fOut = fIn - (fIn - fEq)*omega\n",
    "        \n",
    "    # bounce-back the solid nodes \n",
    "    for spd in range(numSpd):\n",
    "        fOut[spd][snl]=fIn[bb_spd[spd]][snl]\n",
    "            \n",
    "    # stream\n",
    "    for spd in range(numSpd):\n",
    "        fIn[spd][stm[spd][:]]=fOut[spd][:]\n",
    "        \n",
    "        \n",
    "    # write fIn data out after time step\n",
    "    #np.save('step1_gold',fIn)\n",
    "            \n",
    "    if t%Vis_ts==0 and t>0:\n",
    "        # do some visualization of the output\n",
    "        uMag = np.sqrt(ux*ux + uy*uy)\n",
    "        fig,(ax1,ax2) = plt.subplots(nrows=2,figsize=(6,10))\n",
    "        ax1.imshow(np.reshape(uMag,(Ny,Nx)),extent=[0,Nx,0,Ny])\n",
    "        ax1.set_title('Velocity')\n",
    "        pressure = rho*p_conv_fact\n",
    "        pressure -= pressure[int(nnodes/2)] # make pressure relative\n",
    "        ax2.imshow(np.reshape(pressure,(Ny,Nx)),extent=[0,Nx,0,Ny])\n",
    "        ax2.set_title('Density')\n",
    "        plt.tight_layout()\n",
    "        plt.show()\n",
    "            \n",
    "        \n",
    "t1 = time.time();\n",
    "elapsedTime = t1 - t0;\n",
    "LPU = float(nnodes)*float(Num_ts)\n",
    "LPU_sec = LPU/float(elapsedTime)\n",
    "print(f'Lattice point updates per second = %g.' % LPU_sec)"
   ]
  },
  {
   "cell_type": "code",
   "execution_count": null,
   "id": "2f94a1d4",
   "metadata": {},
   "outputs": [],
   "source": []
  }
 ],
 "metadata": {
  "kernelspec": {
   "display_name": "Python 3",
   "language": "python",
   "name": "python3"
  },
  "language_info": {
   "codemirror_mode": {
    "name": "ipython",
    "version": 3
   },
   "file_extension": ".py",
   "mimetype": "text/x-python",
   "name": "python",
   "nbconvert_exporter": "python",
   "pygments_lexer": "ipython3",
   "version": "3.7.3"
  }
 },
 "nbformat": 4,
 "nbformat_minor": 5
}
